{
 "cells": [
  {
   "cell_type": "markdown",
   "metadata": {},
   "source": [
    "# Kinematics model"
   ]
  },
  {
   "cell_type": "code",
   "execution_count": null,
   "metadata": {},
   "outputs": [],
   "source": [
    "import sympy as sp\n",
    "import numpy "
   ]
  },
  {
   "cell_type": "markdown",
   "metadata": {},
   "source": [
    "$v_{xi} = v_i * \\cos({\\theta_i}) = v_x - y_{wi}\\omega$ <br>\n",
    "$v_{yi} = v_i * \\sin({\\theta_i}) = v_y + x_{wi}\\omega$"
   ]
  },
  {
   "cell_type": "code",
   "execution_count": null,
   "metadata": {},
   "outputs": [],
   "source": [
    "#Dimenzije robota\n",
    "x_wi = [sp.symbols(f'x_w{i}') for i in range(1, 5)]\n",
    "y_wi = [sp.symbols(f'y_w{i}') for i in range(1, 5)]\n",
    "r_i = [sp.symbols(f'r_{i}') for i in range(1, 5)]\n",
    "\n",
    "#Brzine kotača\n",
    "v_i = [sp.symbols(f'v_{i}') for i in range(1, 5)]\n",
    "\n",
    "#Kut zakreta kotača\n",
    "d_i = [sp.symbols(f'd_{i}') for i in range(1, 5)]\n",
    "\n",
    "#Položaj robota\n",
    "x = sp.symbols('x')\n",
    "y = sp.symbols('y')\n",
    "th = sp.symbols('th')\n",
    "\n",
    "#Brzine robota\n",
    "vx = sp.symbols('v_x')\n",
    "vy = sp.symbols('v_y')\n",
    "omega = sp.symbols('omega')"
   ]
  },
  {
   "cell_type": "markdown",
   "metadata": {},
   "source": [
    "Dimenzije robota su:<br>\n",
    "$(x_{w1}, y_{w1}) = (a, b)$ <br>\n",
    "$(x_{w2}, y_{w2}) = (-a, b)$ <br>\n",
    "$(x_{w3}, y_{w3}) = (-a, -b)$ <br>\n",
    "$(x_{w4}, y_{w4}) = (a, -b)$ <br>"
   ]
  },
  {
   "cell_type": "code",
   "execution_count": 48,
   "metadata": {},
   "outputs": [
    {
     "data": {
      "text/latex": [
       "$\\displaystyle \\left[\\begin{matrix}c_{1} & c_{2} & c_{3} & c_{4} & 0 & 0 & 0 & 0\\\\s_{1} & s_{2} & s_{3} & s_{4} & 0 & 0 & 0 & 0\\\\W_{1} & W_{2} & W_{3} & W_{4} & 0 & 0 & 0 & 0\\\\0 & 0 & 0 & 0 & 0 & 0 & 0 & 0\\end{matrix}\\right]$"
      ],
      "text/plain": [
       "Matrix([\n",
       "[c_1, c_2, c_3, c_4, 0, 0, 0, 0],\n",
       "[s_1, s_2, s_3, s_4, 0, 0, 0, 0],\n",
       "[W_1, W_2, W_3, W_4, 0, 0, 0, 0],\n",
       "[  0,   0,   0,   0, 0, 0, 0, 0]])"
      ]
     },
     "execution_count": 48,
     "metadata": {},
     "output_type": "execute_result"
    }
   ],
   "source": [
    "c_i = [sp.symbols(f'c_{i}') for i in range(1, 5)]\n",
    "s_i = [sp.symbols(f's_{i}') for i in range(1, 5)]\n",
    "W_i = [sp.symbols(f'W_{i}') for i in range(1, 5)]\n",
    "\n",
    "J = sp.Matrix([[c_i[0], c_i[1], c_i[2], c_i[3], 0, 0, 0, 0]])\n",
    "J = J.row_insert(1, sp.Matrix([[s_i[0], s_i[1], s_i[2], s_i[3], 0, 0, 0, 0]]))\n",
    "J = J.row_insert(2, sp.Matrix([[W_i[0], W_i[1], W_i[2], W_i[3], 0, 0, 0, 0]]))\n",
    "J = J.row_insert(3, sp.Matrix([[0, 0, 0, 0, 0, 0, 0, 0]]))\n",
    "J"
   ]
  }
 ],
 "metadata": {
  "kernelspec": {
   "display_name": "Python 3",
   "language": "python",
   "name": "python3"
  },
  "language_info": {
   "codemirror_mode": {
    "name": "ipython",
    "version": 3
   },
   "file_extension": ".py",
   "mimetype": "text/x-python",
   "name": "python",
   "nbconvert_exporter": "python",
   "pygments_lexer": "ipython3",
   "version": "3.13.2"
  }
 },
 "nbformat": 4,
 "nbformat_minor": 2
}
