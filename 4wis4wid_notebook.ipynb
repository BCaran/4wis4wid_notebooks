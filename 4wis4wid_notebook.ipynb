{
 "cells": [
  {
   "cell_type": "markdown",
   "metadata": {},
   "source": [
    "# Kinematics model"
   ]
  },
  {
   "cell_type": "code",
   "execution_count": 4,
   "metadata": {},
   "outputs": [],
   "source": [
    "import sympy as sp"
   ]
  },
  {
   "cell_type": "markdown",
   "metadata": {},
   "source": [
    "$v_{xi} = v_i * \\cos({\\theta_i}) = v_x - y_{wi}\\omega$ <br>\n",
    "$v_{yi} = v_i * \\sin({\\theta_i}) = v_y + x_{wi}\\omega$"
   ]
  },
  {
   "cell_type": "code",
   "execution_count": 11,
   "metadata": {},
   "outputs": [],
   "source": [
    "#Dimenzije robota\n",
    "x_wi = [sp.symbols(f'x_w{i}') for i in range(1, 5)]\n",
    "y_wi = [sp.symbols(f'y_w{i}') for i in range(1, 5)]\n",
    "\n",
    "#Brzine robota\n",
    "vx = sp.symbols('v_x')\n",
    "vy = sp.symbols('v_y')\n",
    "omega = sp.symbols('omega')\n",
    "\n",
    "#Brzine kotača robota\n",
    "v_xi = [sp.symbols(f'v_x{i}') for i in range(1, 5)]\n",
    "v_yi = [sp.symbols(f'v_y{i}') for i in range(1, 5)]"
   ]
  }
 ],
 "metadata": {
  "kernelspec": {
   "display_name": "Python 3",
   "language": "python",
   "name": "python3"
  },
  "language_info": {
   "codemirror_mode": {
    "name": "ipython",
    "version": 3
   },
   "file_extension": ".py",
   "mimetype": "text/x-python",
   "name": "python",
   "nbconvert_exporter": "python",
   "pygments_lexer": "ipython3",
   "version": "3.13.1"
  }
 },
 "nbformat": 4,
 "nbformat_minor": 2
}
