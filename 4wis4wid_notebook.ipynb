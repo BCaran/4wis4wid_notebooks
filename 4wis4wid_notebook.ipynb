{
 "cells": [
  {
   "cell_type": "markdown",
   "metadata": {},
   "source": [
    "# Kinematic models"
   ]
  },
  {
   "cell_type": "markdown",
   "metadata": {},
   "source": [
    "## 4WIS4WID model"
   ]
  },
  {
   "cell_type": "markdown",
   "metadata": {},
   "source": [
    "<p align=\"center\">\n",
    "  <img src=\"/home/branimir/4wis4wid_notebooks/Figures/fig1.jpg\" width=\"400\"/>\n",
    "</p>"
   ]
  },
  {
   "cell_type": "markdown",
   "metadata": {},
   "source": [
    "Robot's dimensions: <br>\n",
    "$$ (x_{w1}, y_{w1}) = (a, b) $$\n",
    "$$ (x_{w2}, y_{w2}) = (-a, b) $$\n",
    "$$ (x_{w3}, y_{w3}) = (-a, -b) $$\n",
    "$$ (x_{w4}, y_{w4}) = (a, -b) $$"
   ]
  },
  {
   "cell_type": "markdown",
   "metadata": {},
   "source": [
    "$$ \\begin{bmatrix} \\dot{x} \\\\ \\dot{y} \\\\ \\dot{\\theta} \\\\ v_1 \\\\ v_2 \\\\ v_3 \\\\ v_4 \\\\ \\dot{\\delta_1} \\\\ \\dot{\\delta_2} \\\\ \\dot{\\delta_3} \\\\ \\dot{\\delta_4}\\end{bmatrix} = \\begin{bmatrix} \\frac{\\cos{(\\theta + \\delta_1)}}{4} && \\frac{\\cos{(\\theta + \\delta_2)}}{4} && \\frac{\\cos{(\\theta + \\delta_3)}}{4} && \\frac{\\cos{(\\theta + \\delta_4)}}{4} && 0 && 0 && 0 && 0 \\\\ \\frac{\\sin{(\\theta + \\delta_1)}}{4} && \\frac{\\sin{(\\theta + \\delta_2)}}{4} && \\frac{\\sin{(\\theta + \\delta_3)}}{4} && \\frac{\\sin{(\\theta + \\delta_4)}}{4} && 0 && 0 && 0 && 0 \\\\ W_1(\\delta_1) && W_2(\\delta_2) && W_3(\\delta_3) && W_4(\\delta_4) && 0 && 0 && 0 && 0 \\\\ r^{-1} && 0 && 0 && 0 && 0 && 0 && 0 && 0 \\\\ 0 && r^{-1} && 0 && 0 && 0 && 0 && 0 && 0 \\\\ 0 && 0 && r^{-1} && 0 && 0 && 0 && 0 && 0 \\\\ 0 && 0 && 0 && r^{-1} && 0 && 0 && 0 && 0 \\\\ 0 && 0 && 0 && 0 && 1 && 0 && 0 && 0\\\\ 0 && 0 && 0 && 0 && 0 && 1 && 0 && 0\\\\ 0 && 0 && 0 && 0 && 0 && 0 && 1 && 0\\\\ 0 && 0 && 0 && 0 && 0 && 0 && 0 && 1\\end{bmatrix} \\begin{bmatrix} v_1 \\\\ v_2 \\\\ v_3 \\\\ v_4 \\\\ \\omega_1 \\\\ \\omega_2 \\\\ \\omega_3 \\\\ \\omega_4 \\end{bmatrix}$$\n",
    "$$ W_i(\\delta_i) = \\frac{-y_{wi}\\cos{(\\delta_i)} + x_{wi}\\sin{(\\delta_i)}}{4x_{wi}^2 + 4y_{wi}^2} $$"
   ]
  },
  {
   "cell_type": "markdown",
   "metadata": {},
   "source": [
    "## Dual steering bicycle model"
   ]
  },
  {
   "cell_type": "markdown",
   "metadata": {},
   "source": [
    "With assumptions: <br>\n",
    "$$ v_1 = v_2 = v_3 = v_4 = v$$\n",
    "$$ \\delta_1 = \\delta_4 = \\delta_f \\quad \\& \\quad \\delta_2 = \\delta_3 = \\delta_r $$ \n",
    "$$ \\begin{bmatrix} \\dot{x} \\\\ \\dot{y} \\\\ \\dot{\\theta} \\\\ v \\\\ \\dot{\\delta_f} \\\\ \\dot{\\delta_r} \\end{bmatrix} = \\begin{bmatrix} \\frac{\\cos{(\\delta_f + \\theta)} + \\cos{(\\delta_r + \\theta)}}{2} && 0 && 0 \\\\ \\frac{\\sin{(\\delta_f + \\theta)} + \\sin{(\\delta_r + \\theta)}}{2} && 0 && 0 \\\\ \\frac{x_{wf}\\sin{(\\delta_f)}}{2x_{wf}^2 + 2x_{wf}^2} + \\frac{x_{wr}\\sin{(\\delta_r)}}{2x_{wr}^2 + 2x_{wr}^2} && 0 && 0 \\\\ 1 && 0 && 0 \\\\ 0 && 1 && 0 \\\\ 0 && 0 && 1  \\end{bmatrix} \\begin{bmatrix} v \\\\ \\dot{\\delta_f} \\\\ \\dot{\\delta_r} \\end{bmatrix} $$\n"
   ]
  },
  {
   "cell_type": "markdown",
   "metadata": {},
   "source": [
    "## Bicycle model"
   ]
  },
  {
   "cell_type": "markdown",
   "metadata": {},
   "source": [
    "## Ackermann model"
   ]
  },
  {
   "cell_type": "code",
   "execution_count": 1,
   "metadata": {},
   "outputs": [],
   "source": [
    "import sympy as sp\n",
    "import numpy "
   ]
  }
 ],
 "metadata": {
  "kernelspec": {
   "display_name": "Python 3",
   "language": "python",
   "name": "python3"
  },
  "language_info": {
   "codemirror_mode": {
    "name": "ipython",
    "version": 3
   },
   "file_extension": ".py",
   "mimetype": "text/x-python",
   "name": "python",
   "nbconvert_exporter": "python",
   "pygments_lexer": "ipython3",
   "version": "3.10.12"
  }
 },
 "nbformat": 4,
 "nbformat_minor": 2
}
